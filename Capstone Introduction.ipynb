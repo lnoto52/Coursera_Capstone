{
 "cells": [
  {
   "cell_type": "markdown",
   "metadata": {},
   "source": [
    "## Problem\n",
    "\n",
    "M&M Food Market is a frozen food grocery store started in Kitchener, Ontario.\n",
    "They have stores located across Canada and the United States of America, and are always looking to expand either through corporate or outsourcing via franchises. The problem that they could face is trying to figure out where to put their new locations. \n",
    "\n",
    "This is an issue because if stores were located too closely together, then they could be taking profits from each other and it would be better to just have one store there. Having just one store would save money in many different areas, such as:\n",
    "* Less staff needed because they only have to worry about one location\n",
    "* Less money spent on infrastructure, deliveries and electricity for the freezers\n",
    "\n",
    "\n",
    "Another factor is whether or not there is enough people in the area to sustain a store. With lower margins that come with a grocery store, it is important to be able to sell more to make the money back. It is important to use raw numbers here rather than percent because if there is only 100 people in the area and 100% of the people go to M&M's, that is still only 100 people.\n",
    "\n",
    "#### Audience\n",
    "The solution that this project carries is targeted towards the corporate members of M&M and also to new people who are looking to create a new franchise or corporate location. Having a tool like this can help streamline the decision making when wanting to build a new store, and could also show that it might not be worth it to make a new store as well.\n"
   ]
  },
  {
   "cell_type": "markdown",
   "metadata": {},
   "source": []
  },
  {
   "cell_type": "markdown",
   "metadata": {},
   "source": [
    "## Data\n",
    "\n",
    "The data that is needed for this project includes:\n",
    "\n",
    " The locations of all the m&m markets in Toronto (FourSquare API)\n",
    "\n",
    "* Can cluster the locations based on what neighborhood they exist in\n",
    "\n",
    "Distance between each m&m\n",
    "\n",
    "* Important because you do not want too many stores close to each other\n",
    "\n",
    "Look at ratings of each store, and how many people browse the location (FourSquare Tips)\n",
    "\n",
    "* If a store has bad ratings or not enough people browsing the location maybe its time to replace the people or choose a different location for it\n",
    "\n",
    "When calculating where to put the new m&m it will take into account:\n",
    "\n",
    "* There must be a minimum distance away from the nearest m&m\n",
    "* How many m&m's there are in a neighborhood\n",
    "* What the ratings are like at the nearby m&ms\n"
   ]
  },
  {
   "cell_type": "code",
   "execution_count": null,
   "metadata": {},
   "outputs": [],
   "source": []
  }
 ],
 "metadata": {
  "kernelspec": {
   "display_name": "Python 3",
   "language": "python",
   "name": "python3"
  },
  "language_info": {
   "codemirror_mode": {
    "name": "ipython",
    "version": 3
   },
   "file_extension": ".py",
   "mimetype": "text/x-python",
   "name": "python",
   "nbconvert_exporter": "python",
   "pygments_lexer": "ipython3",
   "version": "3.6.8"
  }
 },
 "nbformat": 4,
 "nbformat_minor": 2
}
